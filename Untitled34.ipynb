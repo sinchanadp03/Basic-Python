{
  "nbformat": 4,
  "nbformat_minor": 0,
  "metadata": {
    "colab": {
      "provenance": []
    },
    "kernelspec": {
      "name": "python3",
      "display_name": "Python 3"
    },
    "language_info": {
      "name": "python"
    }
  },
  "cells": [
    {
      "cell_type": "code",
      "execution_count": 1,
      "metadata": {
        "colab": {
          "base_uri": "https://localhost:8080/"
        },
        "id": "gYLLuKP6Zue1",
        "outputId": "6631e040-032b-44c1-dfdf-4c6ca4d0bb2a"
      },
      "outputs": [
        {
          "output_type": "stream",
          "name": "stdout",
          "text": [
            "    * \n",
            "   * * \n",
            "  * * * \n",
            " * * * * \n",
            "* * * * * \n"
          ]
        }
      ],
      "source": [
        "def print_pyramid(rows):\n",
        "    for i in range(rows):\n",
        "        print(\" \" * (rows - i - 1) + \"* \" * (i + 1))\n",
        "\n",
        "print_pyramid(5)\n",
        "\n"
      ]
    },
    {
      "cell_type": "code",
      "source": [
        "rows = int(input(\"Enter number of rows: \"))\n",
        "\n",
        "for i in range(1, rows+1):\n",
        "    print(\" \"*(rows-i) + \" \".join(str(i+j-1) for j in range(1, 2*i)))\n"
      ],
      "metadata": {
        "colab": {
          "base_uri": "https://localhost:8080/"
        },
        "id": "ByrNFVqLbZAS",
        "outputId": "c8c4122d-0403-437b-ec4a-dc5f8b3bc985"
      },
      "execution_count": 11,
      "outputs": [
        {
          "output_type": "stream",
          "name": "stdout",
          "text": [
            "Enter number of rows: 5\n",
            "    1\n",
            "   2 3 4\n",
            "  3 4 5 6 7\n",
            " 4 5 6 7 8 9 10\n",
            "5 6 7 8 9 10 11 12 13\n"
          ]
        }
      ]
    },
    {
      "cell_type": "code",
      "source": [
        "def print_pattern(n):\n",
        "    for i in range(n):\n",
        "        for j in range(i + 1):\n",
        "            print(\"*\", end=\" \")\n",
        "        print()\n",
        "print_pattern(5)"
      ],
      "metadata": {
        "colab": {
          "base_uri": "https://localhost:8080/"
        },
        "id": "G4aNjiBoZzBD",
        "outputId": "9e3804e3-197d-4191-8091-bec43dd6c135"
      },
      "execution_count": 7,
      "outputs": [
        {
          "output_type": "stream",
          "name": "stdout",
          "text": [
            "* \n",
            "* * \n",
            "* * * \n",
            "* * * * \n",
            "* * * * * \n"
          ]
        }
      ]
    },
    {
      "cell_type": "code",
      "source": [
        "rows = int(input(\"Enter number of rows: \"))\n",
        "\n",
        "for i in range(rows):\n",
        "    for j in range(i+1):\n",
        "        print(j+1, end=\" \")\n",
        "    print()"
      ],
      "metadata": {
        "colab": {
          "base_uri": "https://localhost:8080/"
        },
        "id": "X2LnHkFeaIfs",
        "outputId": "77747a36-a495-491c-aed7-ca67a7e9c5ee"
      },
      "execution_count": 5,
      "outputs": [
        {
          "output_type": "stream",
          "name": "stdout",
          "text": [
            "Enter number of rows: 5\n",
            "1 \n",
            "1 2 \n",
            "1 2 3 \n",
            "1 2 3 4 \n",
            "1 2 3 4 5 \n"
          ]
        }
      ]
    },
    {
      "cell_type": "code",
      "source": [
        "rows = int(input(\"Enter number of rows: \"))\n",
        "\n",
        "for i in range(rows, 0, -1):\n",
        "    for j in range(0, i):\n",
        "        print(\"* \", end=\" \")\n",
        "\n",
        "    print()"
      ],
      "metadata": {
        "colab": {
          "base_uri": "https://localhost:8080/"
        },
        "id": "2-OQ97VAagAH",
        "outputId": "851c8bcc-1edd-4b5f-d788-47e2e6c1f53f"
      },
      "execution_count": 8,
      "outputs": [
        {
          "output_type": "stream",
          "name": "stdout",
          "text": [
            "Enter number of rows: 5\n",
            "*  *  *  *  *  \n",
            "*  *  *  *  \n",
            "*  *  *  \n",
            "*  *  \n",
            "*  \n"
          ]
        }
      ]
    },
    {
      "cell_type": "code",
      "source": [
        "rows = int(input(\"Enter number of rows: \"))\n",
        "\n",
        "for i in range(rows, 0, -1):\n",
        "    for j in range(1,i+1):\n",
        "        print(j, end=\" \")\n",
        "\n",
        "    print()"
      ],
      "metadata": {
        "colab": {
          "base_uri": "https://localhost:8080/"
        },
        "id": "P5a6RxLOaqWY",
        "outputId": "8fbceb39-ef0d-4ded-a4ac-7d89392d8caa"
      },
      "execution_count": 10,
      "outputs": [
        {
          "output_type": "stream",
          "name": "stdout",
          "text": [
            "Enter number of rows: 5\n",
            "1 2 3 4 5 \n",
            "1 2 3 4 \n",
            "1 2 3 \n",
            "1 2 \n",
            "1 \n"
          ]
        }
      ]
    },
    {
      "cell_type": "code",
      "source": [
        "def print_square(rows):\n",
        "    for i in range(rows):\n",
        "        print(\"* \" * rows)\n",
        "\n",
        "print_square(5)"
      ],
      "metadata": {
        "colab": {
          "base_uri": "https://localhost:8080/"
        },
        "id": "lGrMpkFcZ3xG",
        "outputId": "9f5e4dc1-002b-4b8e-a8a7-b9a4ad02a72f"
      },
      "execution_count": 3,
      "outputs": [
        {
          "output_type": "stream",
          "name": "stdout",
          "text": [
            "* * * * * \n",
            "* * * * * \n",
            "* * * * * \n",
            "* * * * * \n",
            "* * * * * \n"
          ]
        }
      ]
    },
    {
      "cell_type": "code",
      "source": [
        "def print_square_box(n):\n",
        "    print('*' * n)\n",
        "    for _ in range(n - 2):\n",
        "        print('' + ' ' * (n - 2) + '')\n",
        "    if n > 1:\n",
        "        print('*' * n)\n",
        "\n",
        "print_square_box(5)"
      ],
      "metadata": {
        "colab": {
          "base_uri": "https://localhost:8080/"
        },
        "id": "3wuMTKDJZ8o1",
        "outputId": "aa46570c-4e03-4127-8df4-a5dc14fcb784"
      },
      "execution_count": 4,
      "outputs": [
        {
          "output_type": "stream",
          "name": "stdout",
          "text": [
            "*****\n",
            "   \n",
            "   \n",
            "   \n",
            "*****\n"
          ]
        }
      ]
    }
  ]
}